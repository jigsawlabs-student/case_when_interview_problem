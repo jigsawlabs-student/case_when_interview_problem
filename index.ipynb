{
 "cells": [
  {
   "cell_type": "markdown",
   "id": "c304702d-ed4d-49c5-8340-84549fba8a0b",
   "metadata": {},
   "source": [
    "# Case When Statement Problem"
   ]
  },
  {
   "cell_type": "markdown",
   "id": "45777903-5ae1-47ab-b7ce-077e18c5fcdb",
   "metadata": {},
   "source": [
    "> Relevant data is in the `test_cases.sql` file.  To setup, create a new database, then run the file to create the relevant tables below.  "
   ]
  },
  {
   "cell_type": "markdown",
   "id": "e0dcd31f-8bfb-4450-a6e7-4dbaa20bac3a",
   "metadata": {},
   "source": [
    "<img src=\"./prompt_6.png\">"
   ]
  },
  {
   "cell_type": "markdown",
   "id": "134a21e9-9880-4079-8ec0-b6e12412354c",
   "metadata": {},
   "source": [
    "<img src=\"./prompt_5.png\">"
   ]
  },
  {
   "cell_type": "code",
   "execution_count": null,
   "id": "519689d7-05ea-4651-8420-5bb301714747",
   "metadata": {},
   "outputs": [],
   "source": []
  }
 ],
 "metadata": {
  "kernelspec": {
   "display_name": "Python 3",
   "language": "python",
   "name": "python3"
  },
  "language_info": {
   "codemirror_mode": {
    "name": "ipython",
    "version": 3
   },
   "file_extension": ".py",
   "mimetype": "text/x-python",
   "name": "python",
   "nbconvert_exporter": "python",
   "pygments_lexer": "ipython3",
   "version": "3.8.8"
  }
 },
 "nbformat": 4,
 "nbformat_minor": 5
}
